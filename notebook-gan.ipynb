{
 "metadata": {
  "language_info": {
   "codemirror_mode": {
    "name": "ipython",
    "version": 3
   },
   "file_extension": ".py",
   "mimetype": "text/x-python",
   "name": "python",
   "nbconvert_exporter": "python",
   "pygments_lexer": "ipython3",
   "version": "3.8.2-final"
  },
  "orig_nbformat": 2,
  "kernelspec": {
   "name": "python3",
   "display_name": "Python 3.8.2 64-bit",
   "metadata": {
    "interpreter": {
     "hash": "31f2aee4e71d21fbe5cf8b01ff0e069b9275f58929596ceb00d14d90e3e16cd6"
    }
   }
  }
 },
 "nbformat": 4,
 "nbformat_minor": 2,
 "cells": [
  {
   "source": [
    "# GAN - MNIST + Keras"
   ],
   "cell_type": "markdown",
   "metadata": {}
  },
  {
   "source": [
    "## 0. Imports"
   ],
   "cell_type": "markdown",
   "metadata": {}
  },
  {
   "cell_type": "code",
   "execution_count": 29,
   "metadata": {},
   "outputs": [
    {
     "output_type": "stream",
     "name": "stdout",
     "text": [
      "Numpy .... : 1.19.2\nMatplotlib : 3.3.2\nTensorflow : 2.4.0\nKeras .... : 2.4.3\n"
     ]
    }
   ],
   "source": [
    "# Maths\n",
    "import numpy                                            as np\n",
    "\n",
    "# Matplotlib\n",
    "import matplotlib                                       as mp\n",
    "import matplotlib.pyplot                                as pt\n",
    "\n",
    "# Machine / Deep Learning\n",
    "import tensorflow                                       as tf\n",
    "import keras                                            as ks\n",
    "from keras              import models                   as mls\n",
    "from keras              import layers                   as lys\n",
    "from keras.datasets     import mnist                    as mn\n",
    "from keras.utils        import to_categorical           as tc\n",
    "\n",
    "# Custom\n",
    "from lib_monogan         import MonoGAN\n",
    "from lib_monogan_monitor import MonoGAN_Monitor\n",
    "\n",
    "# Versions\n",
    "print( f\"Numpy .... : {np.__version__}\" )\n",
    "print( f\"Matplotlib : {mp.__version__}\" )\n",
    "print( f\"Tensorflow : {tf.__version__}\" )\n",
    "print( f\"Keras .... : {ks.__version__}\" )"
   ]
  },
  {
   "source": [
    "## 1. Set Up Model"
   ],
   "cell_type": "markdown",
   "metadata": {}
  },
  {
   "source": [
    "### 1.0 Set Up Discriminator"
   ],
   "cell_type": "markdown",
   "metadata": {}
  },
  {
   "cell_type": "code",
   "execution_count": 30,
   "metadata": {},
   "outputs": [
    {
     "output_type": "stream",
     "name": "stdout",
     "text": [
      "Model: \"Discriminator\"\n_________________________________________________________________\nLayer (type)                 Output Shape              Param #   \n=================================================================\nconv2d_12 (Conv2D)           (None, 14, 14, 64)        640       \n_________________________________________________________________\nleaky_re_lu_27 (LeakyReLU)   (None, 14, 14, 64)        0         \n_________________________________________________________________\nconv2d_13 (Conv2D)           (None, 7, 7, 128)         73856     \n_________________________________________________________________\nleaky_re_lu_28 (LeakyReLU)   (None, 7, 7, 128)         0         \n_________________________________________________________________\nglobal_max_pooling2d_6 (Glob (None, 128)               0         \n_________________________________________________________________\ndense_12 (Dense)             (None, 1)                 129       \n=================================================================\nTotal params: 74,625\nTrainable params: 74,625\nNon-trainable params: 0\n_________________________________________________________________\n"
     ]
    }
   ],
   "source": [
    "# Set up discriminator\n",
    "\n",
    "dr = mls.Sequential( name = \"Discriminator\" )\n",
    "\n",
    "dr.add( lys.Input( shape = ( 28, 28, 1 ) ) )\n",
    "dr.add( lys.Conv2D( 64, ( 3, 3 ), strides = ( 2, 2 ), padding = \"same\" ) )\n",
    "dr.add( lys.LeakyReLU( alpha = 0.2 ) )\n",
    "dr.add( lys.Conv2D( 128, ( 3, 3 ), strides = ( 2, 2 ), padding = \"same\" ) )\n",
    "dr.add( lys.LeakyReLU( alpha = 0.2 ) )\n",
    "dr.add( lys.GlobalMaxPooling2D() )\n",
    "dr.add( lys.Dense( 1 ) )\n",
    "\n",
    "dr.summary()"
   ]
  },
  {
   "source": [
    "### 1.1 Set Up Generator"
   ],
   "cell_type": "markdown",
   "metadata": {}
  },
  {
   "cell_type": "code",
   "execution_count": 31,
   "metadata": {},
   "outputs": [
    {
     "output_type": "stream",
     "name": "stdout",
     "text": [
      "Model: \"Generator\"\n_________________________________________________________________\nLayer (type)                 Output Shape              Param #   \n=================================================================\ndense_13 (Dense)             (None, 6272)              809088    \n_________________________________________________________________\nleaky_re_lu_29 (LeakyReLU)   (None, 6272)              0         \n_________________________________________________________________\nreshape_7 (Reshape)          (None, 7, 7, 128)         0         \n_________________________________________________________________\nconv2d_transpose_12 (Conv2DT (None, 14, 14, 128)       262272    \n_________________________________________________________________\nleaky_re_lu_30 (LeakyReLU)   (None, 14, 14, 128)       0         \n_________________________________________________________________\nconv2d_transpose_13 (Conv2DT (None, 28, 28, 128)       262272    \n_________________________________________________________________\nleaky_re_lu_31 (LeakyReLU)   (None, 28, 28, 128)       0         \n_________________________________________________________________\nconv2d_transpose_14 (Conv2DT (None, 28, 28, 1)         6273      \n=================================================================\nTotal params: 1,339,905\nTrainable params: 1,339,905\nNon-trainable params: 0\n_________________________________________________________________\n"
     ]
    }
   ],
   "source": [
    "dimension = 128\n",
    "\n",
    "gr = mls.Sequential( name = \"Generator\" )\n",
    "\n",
    "gr.add( lys.Input( shape = ( dimension, ) ) )\n",
    "gr.add( lys.Dense( 7 * 7 * 128 ) )\n",
    "gr.add( lys.LeakyReLU( alpha = 0.2 ) )\n",
    "gr.add( lys.Reshape( ( 7, 7, 128 ) ) )\n",
    "gr.add( lys.Conv2DTranspose( 128, ( 4, 4 ), strides = ( 2, 2 ), padding = \"same\" ) )\n",
    "gr.add( lys.LeakyReLU( alpha = 0.2 ) )\n",
    "gr.add( lys.Conv2DTranspose( 128, ( 4, 4 ), strides = ( 2, 2 ), padding = \"same\" ) )\n",
    "gr.add( lys.LeakyReLU( alpha = 0.2 ) )\n",
    "gr.add( lys.Conv2DTranspose( 1, ( 7, 7 ), padding = \"same\", activation = \"sigmoid\" ) )\n",
    "\n",
    "gr.summary()"
   ]
  },
  {
   "source": [
    "## 2. Setup MNIST Dataset "
   ],
   "cell_type": "markdown",
   "metadata": {}
  },
  {
   "cell_type": "code",
   "execution_count": 32,
   "metadata": {},
   "outputs": [],
   "source": [
    "( tr_images, tr_labels ), ( ts_images, ts_labels ) = mn.load_data()\n",
    "\n",
    "batch_size = 64\n",
    "\n",
    "all_digits = np.concatenate( [tr_images, ts_images] )\n",
    "all_digits = all_digits.astype( 'float32' ) / 255\n",
    "all_digits = np.reshape( all_digits, ( -1, 28, 28, 1 ) )\n",
    "\n",
    "dataset = tf.data.Dataset.from_tensor_slices( all_digits )\n",
    "dataset = dataset.shuffle( buffer_size=1024 ).batch( batch_size ).prefetch( 32 )"
   ]
  },
  {
   "source": [
    "## 3. Create GAN Model"
   ],
   "cell_type": "markdown",
   "metadata": {}
  },
  {
   "cell_type": "code",
   "execution_count": 33,
   "metadata": {},
   "outputs": [],
   "source": [
    "epochs = 30\n",
    "\n",
    "gan = MonoGAN(\n",
    "    discriminator   = dr,\n",
    "    generator       = gr,\n",
    "    dimension       = dimension\n",
    ")"
   ]
  },
  {
   "source": [
    "## 4.  Compile GAN Model"
   ],
   "cell_type": "markdown",
   "metadata": {}
  },
  {
   "cell_type": "code",
   "execution_count": 34,
   "metadata": {},
   "outputs": [],
   "source": [
    "gan.compile(\n",
    "    dr_opt          = ks.optimizers.Adam( learning_rate = 0.0003 ),\n",
    "    gr_opt          = ks.optimizers.Adam( learning_rate = 0.0003 ),\n",
    "    loss_function   = ks.losses.BinaryCrossentropy( from_logits = True )\n",
    ")\n"
   ]
  },
  {
   "source": [
    "## 4. Train Model"
   ],
   "cell_type": "markdown",
   "metadata": {}
  },
  {
   "cell_type": "code",
   "execution_count": 20,
   "metadata": {},
   "outputs": [
    {
     "output_type": "stream",
     "name": "stdout",
     "text": [
      "Epoch 1/5\n",
      "938/938 [==============================] - 66s 69ms/step - loss: 0.8713 - accuracy: 0.8633\n",
      "Epoch 2/5\n",
      "938/938 [==============================] - 60s 64ms/step - loss: 0.0243 - accuracy: 0.9948\n",
      "Epoch 3/5\n",
      "938/938 [==============================] - 41s 43ms/step - loss: 0.0150 - accuracy: 0.9967\n",
      "Epoch 4/5\n",
      "938/938 [==============================] - 46s 49ms/step - loss: 0.0168 - accuracy: 0.9961\n",
      "Epoch 5/5\n",
      "938/938 [==============================] - 44s 47ms/step - loss: 0.0163 - accuracy: 0.9964\n"
     ]
    },
    {
     "output_type": "execute_result",
     "data": {
      "text/plain": [
       "<tensorflow.python.keras.callbacks.History at 0x149e3b0a0>"
      ]
     },
     "metadata": {},
     "execution_count": 20
    }
   ],
   "source": [
    "gan.fit(\n",
    "    dataset,\n",
    "    epochs = epochs,\n",
    "    callbacks = [ MonoGAN_Monitor( image_number = 3, dimension = dimension ) ]\n",
    ")"
   ]
  },
  {
   "source": [
    "## 5. Evaluate Model"
   ],
   "cell_type": "markdown",
   "metadata": {}
  },
  {
   "cell_type": "code",
   "execution_count": 22,
   "metadata": {},
   "outputs": [
    {
     "output_type": "stream",
     "name": "stdout",
     "text": [
      "313/313 [==============================] - 2s 8ms/step - loss: 0.0508 - accuracy: 0.9910\n",
      "0.9909999966621399\n"
     ]
    }
   ],
   "source": [
    "for i in range( 3 ):\n",
    "    pt.figure( figsize = ( 30, 30 ) )\n",
    "    im = pt.imread( f\"./generated_img_{i}_29.png\" )\n",
    "    pt.imshow( im )"
   ]
  }
 ]
}